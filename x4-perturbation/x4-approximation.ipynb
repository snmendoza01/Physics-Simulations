{
 "cells": [
  {
   "cell_type": "markdown",
   "metadata": {},
   "source": [
    "# $x^4$ Approximation \n",
    "\n",
    "### __Theory:__\n",
    "The problem revolves around solving the Schrödinger Equation for $x^4$ perturbation:\n",
    "\n",
    "$$ \\left(\\frac{1}{2m}\\hat{p}^2 + \\frac{1}{2}k\\hat{x}^2 + \\lambda x^4\\right)\\ket{\\psi} = E\\ket{\\psi} \\iff (\\hat{H}_\\text{osc} + \\lambda \\hat{x}^4)\\ket{\\psi} = E\\ket{\\psi}$$\n",
    "\n",
    "We will solve this equation for the ground state, which means finding the lowest eigenvalue $E$ and its corresponding eigenstate $\\ket{\\psi}$.\n",
    "\n",
    "Since the eigenstates of the QHO $\\,\\,\\{\\ket{n}\\}_{n=1}^\\infty\\,\\,$  form a basis for $L^2(\\mathbb{C})$, we can assume that the groundstate takes the form:\n",
    "\n",
    "$$\\ket{\\psi_0} = \\sum_{n = 0}^\\infty \\alpha _n \\ket{n} \\qquad \\alpha_i \\in \\mathbb{C}$$\n",
    "\n",
    "which reduces the problem to that of finding the coefficients $\\{\\alpha_i\\}_{i = 0}^\\infty \\,\\,$. This can be presented as an optimization problem: It can be shown that $$E_0 = \\bra{\\psi_0}\\hat{H}\\ket{\\psi_0} \\leq \\bra{\\psi_\\Theta}\\hat{H}\\ket{\\psi_\\Theta}$$ where $\\psi_\\Theta$ is a state perturbed away from $\\psi_0$. Thus, the loss functional $\\mathfrak{L}$ that we will try to minimize such that $\\ket{\\psi_\\Theta}$ approaches $\\ket{\\psi_0}$ is simply given by $$\\mathfrak{L}(\\ket{\\psi_\\Theta}) = \\bra{\\psi_\\Theta}\\hat{H}\\ket{\\psi_\\Theta}$$. \n",
    "\n",
    "### __Approach:__\n",
    "We will use pytorch to solve this problem. First, we will define a truncation parameter $N$ to turn the infinite representation of $\\ket{\\psi}$ into a finite approximate representation. The problem reduces to findining:\n",
    "$$\\boldsymbol{\\hat{\\alpha}} \\coloneqq \n",
    "\\underset{\\alpha }{\\arg\\min} |\\sum_{i,\\, j = 0}^N \\bar{\\alpha}_i \\alpha_j\\bra{i}\\hat{H}\\ket{j}|$$\n",
    "\n",
    "Given that this is now a finite dimensional problem, we can represent $\\hat{H}$ as a matrix $H \\eqqcolon [\\hat{H}]_\\mathfrak{B}$ (with respect to the basis $\\mathfrak{B}=\\{\\ket{0}, \\ket{1},...\\ket{N}\\}$ ), with its components given by $H_{nm} = \\bra{n}\\hat{H}\\ket{m}$. In this representation, \n",
    "$\\sum_{n=0}^N \\alpha_n \\ket{n} = \\boldsymbol{\\alpha}$ and thus \n",
    "$$\\boldsymbol{\\hat{\\alpha}} = \\underset{\\alpha }{\\arg\\min}|\\boldsymbol{\\alpha}^\\dagger H \\alpha|$$\n",
    "\n",
    "We can see that $[\\hat{H}_\\text{osc}]_\\mathfrak{B} = \\text{Diag}(e_0, e_1, ..., e_N)$ with $e_n = (\\frac{1}{2}+n)h\\omega$ as the basis elements are eigenstates of the operator. The representation of $\\hat{x}$ is not as obvious, but decomposing it into the ladder operators as $\\hat{x} = \\frac{1}{\\sqrt{2}}(\\hat{a}^\\dagger + \\hat{a})$, we have:\n",
    "$$[\\hat{x}]_\\mathfrak{B} = \\frac{1}{\\sqrt{2}}\n",
    "\\begin{pmatrix}\n",
    "    0 & \\sqrt{1} & 0 & 0 & \\dots\\\\\n",
    "    \\sqrt{1}& 0 & \\sqrt{2} & 0 &\\dots\\\\\n",
    "    0& \\sqrt{2}&0&\\sqrt{3}\\\\\n",
    "    0&0&\\sqrt{3}&0\\\\\n",
    "    \\dots&&&&{\\dots}\\\\\n",
    "    &&&&&\\sqrt{N}\\\\ \n",
    "    &&&&\\sqrt{N}&0\\\\\n",
    "\\end{pmatrix}\n",
    "$$\n",
    "\n",
    "Therefore, we are able to compute the coefficients by calculating the loss explicitely using the QHO basis representation for matrices and vectors. "
   ]
  },
  {
   "cell_type": "code",
   "execution_count": 178,
   "metadata": {},
   "outputs": [
    {
     "name": "stdout",
     "output_type": "stream",
     "text": [
      "Using device cpu\n"
     ]
    }
   ],
   "source": [
    "import torch\n",
    "import math\n",
    "import matplotlib.pyplot as plt\n",
    "%matplotlib inline\n",
    "\n",
    "# hyperparameters\n",
    "w = 1\n",
    "h = 1\n",
    "lmbda = 0.25\n",
    "N = 50\n",
    "lr = 1e-3\n",
    "epochs = 30000\n",
    "\n",
    "hyperparams = {'lmbda': lmbda, 'lr': lr, 'epochs': epochs}\n",
    "\n",
    "device = torch.device(\"cpu\") if not torch.cuda.is_available() else torch.device(\"cuda:0\")\n",
    "print(\"Using device\", device)\n",
    "    "
   ]
  },
  {
   "cell_type": "markdown",
   "metadata": {},
   "source": [
    "We proceed to define the different tensors as outlined in the 'Theory' section, being careful to specify the vectors that are meant to have a gradient."
   ]
  },
  {
   "cell_type": "code",
   "execution_count": 179,
   "metadata": {},
   "outputs": [],
   "source": [
    "coeffs = torch.rand(N+1, dtype=torch.cfloat, requires_grad=True)\n",
    "normed_coeffs = coeffs/torch.norm(coeffs)\n",
    "coeffs_conj = torch.conj(normed_coeffs)\n",
    "H_osc = torch.diag((torch.arange(N+1)+0.5)*h*w+0j)\n",
    "x  = torch.zeros(N+1, N+1, requires_grad=False, dtype=torch.cfloat)\n",
    "for i in range(N):\n",
    "    n = i+1\n",
    "    x[n][i] = math.sqrt(n/2)\n",
    "    x[i][n] = math.sqrt(n/2)\n",
    "\n",
    "# print(f'H matrix:\\n {H_osc}\\n')\n",
    "# print(f'x matrix:\\n {x}\\n')\n",
    "# print(f'alpha:\\n {normed_coeffs}\\n')\n",
    "# print(f'alpha conjugated:\\n {coeffs_conj}\\n')\n",
    "# print(f'Normalized? -> norm: {coeffs_conj@normed_coeffs}')"
   ]
  },
  {
   "cell_type": "markdown",
   "metadata": {},
   "source": [
    "We then define the loss function $\\mathfrak{L}$ as `x4loss`, along with an `optimize` function to optimize the coefficients. `optimize` will return data points for plotting the loss vs the number of iterations.\n",
    "\n",
    "_Note:_ the `x4loss` is a pure function, while optimize is not. This is made for simplicity in this scenario, as there is not much room for ambiguity with respect to the loss function. A more robust scenario would include the loss function as an argument, along with any arguments the loss function requires, but will be avoided in this situation for better readibility."
   ]
  },
  {
   "cell_type": "code",
   "execution_count": 180,
   "metadata": {},
   "outputs": [],
   "source": [
    "def x4loss(alpha, Hosc, x, lmbda):\n",
    "    normed_alpha = alpha/torch.norm(alpha)\n",
    "    alpha_conj = torch.conj(normed_alpha)\n",
    "    return torch.abs(alpha_conj@(Hosc + lmbda*x@x@x@x)@normed_alpha)\n",
    "\n",
    "def optimize(alpha, x, H_osc, **hyperparams):\n",
    "    lr = hyperparams['lr']\n",
    "    epochs = hyperparams['epochs']\n",
    "    lmbda = hyperparams['lmbda']\n",
    "    interv = 50\n",
    "    optimizing_info = torch.zeros(epochs//interv, 2)\n",
    "    optimizer = torch.optim.Adam([alpha], lr=lr)\n",
    "    for step in range(epochs):\n",
    "        loss = x4loss(coeffs, H_osc, x, lmbda)\n",
    "        # Backpropagation\n",
    "        optimizer.zero_grad()\n",
    "        loss.backward()\n",
    "        optimizer.step()\n",
    "        if not step%interv:\n",
    "            # print(f'step: {step} \\nloss: {loss}\\n------------')\n",
    "            optimizing_info[step//interv][0] = step\n",
    "            optimizing_info[step//interv][1] = loss\n",
    "    return optimizing_info\n",
    "plot_data = optimize(coeffs, x, H_osc, **hyperparams).detach()\n"
   ]
  },
  {
   "cell_type": "markdown",
   "metadata": {},
   "source": [
    "We can see that after roughly $10 000$ iterations, the loss stabilizes around a value $y\\approx0.62092$ for $\\lambda = 0.25$, which would imply that this is the ground state energy of the system. \n",
    "\n",
    "We will proceed to plot the values for the Loss along with this inferred lower bound for the loss."
   ]
  },
  {
   "cell_type": "code",
   "execution_count": 183,
   "metadata": {},
   "outputs": [
    {
     "data": {
      "image/png": "[encoded data removed]",
      "text/plain": [
       "<Figure size 432x288 with 1 Axes>"
      ]
     },
     "metadata": {
      "needs_background": "light"
     },
     "output_type": "display_data"
    },
    {
     "name": "stdout",
     "output_type": "stream",
     "text": [
      "Final loss: 0.620927095413208\n"
     ]
    }
   ],
   "source": [
    "plt.plot(plot_data[:,0], plot_data[:, 1], label='Loss', alpha=0.7)\n",
    "plt.plot(torch.arange(0, epochs), [0.62092]*epochs, ls='--', alpha=0.7, \n",
    "         label=r'$y=0.62092$')\n",
    "plt.title('Loss vs iterations')\n",
    "plt.xlabel('steps')\n",
    "plt.ylabel('Loss')\n",
    "plt.legend()\n",
    "plt.grid(ls='--')\n",
    "plt.show()\n",
    "print(f'Final loss: {plot_data[-1,1]}')"
   ]
  },
  {
   "cell_type": "markdown",
   "metadata": {},
   "source": [
    "We can see that the Loss function stabilized around step $10000$ indeed, suggesting the ground energy has been reached (or a local minimum for the Loss function), and it is equal to the aforementioned $y$. \n",
    "\n",
    "To analyze the eigenstate, we just need to analyze the coefficients that were optimized. They are shown below, both printed out and in a diagram. \n",
    "\n",
    "_Remark:_ The even terms of the basis appear to have a significant distribution, while the odd terms are orders of magnitude smaller than the even terms."
   ]
  },
  {
   "cell_type": "code",
   "execution_count": 182,
   "metadata": {},
   "outputs": [
    {
     "name": "stdout",
     "output_type": "stream",
     "text": [
      "tensor([ 6.0302e-01+7.8770e-01j,  2.4342e-08-1.6742e-08j,\n",
      "        -7.6383e-02-9.9775e-02j,  7.4904e-08-5.1499e-08j,\n",
      "         1.1858e-03+1.5490e-03j,  9.1730e-08-6.3069e-08j,\n",
      "         5.3265e-03+6.9577e-03j,  1.1690e-07-8.0379e-08j,\n",
      "        -2.7113e-03-3.5416e-03j,  1.5057e-07-1.0353e-07j,\n",
      "         7.8510e-04+1.0255e-03j,  1.8902e-07-1.2997e-07j,\n",
      "        -5.7408e-05-7.4997e-05j,  2.2691e-07-1.5601e-07j,\n",
      "        -9.7103e-05-1.2685e-04j,  2.5850e-07-1.7774e-07j,\n",
      "         7.7003e-05+1.0058e-04j,  2.7844e-07-1.9145e-07j,\n",
      "        -3.5746e-05-4.6701e-05j,  2.8285e-07-1.9448e-07j,\n",
      "         1.0268e-05+1.3407e-05j,  2.7074e-07-1.8615e-07j,\n",
      "         3.8921e-08+4.4472e-08j,  2.4390e-07-1.6770e-07j,\n",
      "        -2.4436e-06-3.1982e-06j,  2.0570e-07-1.4143e-07j,\n",
      "         1.9656e-06+2.5638e-06j,  1.6006e-07-1.1005e-07j,\n",
      "        -1.0441e-06-1.3662e-06j,  1.1116e-07-7.6427e-08j,\n",
      "         3.6818e-07+4.7768e-07j,  6.3387e-08-4.3583e-08j,\n",
      "        -5.2863e-08-7.2903e-08j,  2.1098e-08-1.4506e-08j,\n",
      "        -6.2313e-08-8.4011e-08j, -1.1639e-08+8.0023e-09j,\n",
      "         6.3484e-08+8.1814e-08j, -3.1618e-08+2.1739e-08j,\n",
      "        -4.6435e-08-6.1424e-08j, -3.7698e-08+2.5919e-08j,\n",
      "         1.9115e-08+2.3941e-08j, -3.1573e-08+2.1709e-08j,\n",
      "        -8.6371e-09-1.2188e-08j, -1.7488e-08+1.2023e-08j,\n",
      "        -8.5449e-10-1.5294e-09j, -1.1335e-09+7.7974e-10j,\n",
      "         1.2698e-09+1.6279e-09j,  1.1407e-08-7.8432e-09j,\n",
      "        -3.0346e-09-3.8600e-09j,  1.7794e-08-1.2234e-08j,\n",
      "         9.8212e-10+1.4139e-09j], grad_fn=<DivBackward0>)\n"
     ]
    },
    {
     "data": {
      "image/png": "[encoded data removed]",
      "text/plain": [
       "<Figure size 432x288 with 1 Axes>"
      ]
     },
     "metadata": {
      "needs_background": "light"
     },
     "output_type": "display_data"
    }
   ],
   "source": [
    "normed_coeffs = coeffs/torch.norm(coeffs)\n",
    "print(normed_coeffs)\n",
    "epsi = 1e-13  # to avoid later evaluating log(0)\n",
    "plt.scatter(torch.arange(0, N+1), torch.log10(torch.abs(normed_coeffs).detach()+epsi), s=10)\n",
    "plt.title(r'$x^4$ coefficients after stabilization')\n",
    "plt.xlabel(r'$n$')\n",
    "plt.ylabel(r'$\\log_{10}|\\alpha_n|$')\n",
    "plt.grid(ls='--')"
   ]
  }
 ],
 "metadata": {
  "kernelspec": {
   "display_name": "Python 3.8.5 ('base')",
   "language": "python",
   "name": "python3"
  },
  "language_info": {
   "codemirror_mode": {
    "name": "ipython",
    "version": 3
   },
   "file_extension": ".py",
   "mimetype": "text/x-python",
   "name": "python",
   "nbconvert_exporter": "python",
   "pygments_lexer": "ipython3",
   "version": "3.8.5"
  },
  "orig_nbformat": 4,
  "vscode": {
   "interpreter": {
    "hash": "1c64bf8550111f692d1dbcc1d75814978e4e1f37e5d274065f0dbf4ce2794aed"
   }
  }
 },
 "nbformat": 4,
 "nbformat_minor": 2
}
