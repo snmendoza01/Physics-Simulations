{
 "cells": [
  {
   "cell_type": "markdown",
   "metadata": {},
   "source": [
    "# $x^4$ Approximation \n",
    "\n",
    "### __Theory:__\n",
    "The problem revolves around solving the Schrödinger Equation for $x^4$ perturbation:\n",
    "\n",
    "$$ \\left(\\frac{1}{2m}\\hat{p}^2 + \\frac{1}{2}k\\hat{x}^2 + \\lambda x^4\\right)\\ket{\\psi} = E\\ket{\\psi} \\iff (\\hat{H}_\\text{osc} + \\lambda \\hat{x}^4)\\ket{\\psi} = E\\ket{\\psi}$$\n",
    "\n",
    "We will solve this equation for the ground state, which means finding the lowest eigenvalue $E$ and its corresponding eigenstate $\\ket{\\psi}$.\n",
    "\n",
    "Since the eigenstates of the QHO $\\,\\,\\{\\ket{n}\\}_{n=1}^\\infty\\,\\,$  form a basis for $L^2(\\mathbb{C}$, we can assume that the groundstate takes the form:\n",
    "\n",
    "$$\\ket{\\psi_0} = \\sum_{n = 0}^\\infty \\alpha _n \\ket{n} \\qquad \\alpha_i \\in \\mathbb{C}$$\n",
    "\n",
    "which reduces the problem to that of finding the coefficients $\\{\\alpha_i\\}_{i = 0}^\\infty \\,\\,$. This can be presented as an optimization problem: It can be shown that $$E_0 = \\bra{\\psi_0}\\hat{H}\\ket{\\psi_0} \\leq \\bra{\\psi_\\Theta}\\hat{H}\\ket{\\psi_\\Theta}$$ where $\\psi_\\Theta$ is a state perturbed away from $\\psi_0$. Thus, the loss functional $\\mathfrak{L}$ that we will try to minimize such that $\\ket{\\psi_\\Theta}$ approaches $\\ket{\\psi_0}$ is simply given by $$\\mathfrak{L}(\\ket{\\psi_\\Theta}) = \\bra{\\psi_\\Theta}\\hat{H}\\ket{\\psi_\\Theta}$$. \n",
    "\n",
    "### __Approach:__\n",
    "We will use pytorch to solve this problem. First, we will define a truncation parameter $N$ to turn the infinite representation of $\\ket{\\psi}$ into a finite approximate representation. The problem reduces to findining:\n",
    "$$\\boldsymbol{\\hat{\\alpha}} \\coloneqq \n",
    "\\underset{\\alpha }{\\arg\\min} |\\sum_{i,\\, j = 0}^N \\bar{\\alpha}_i \\alpha_j\\bra{i}\\hat{H}\\ket{j}|$$\n",
    "\n",
    "Given that this is now a finite dimensional problem, we can represent $\\hat{H}$ as a matrix $H \\eqqcolon [\\hat{H}]_\\mathfrak{B}$ (with respect to the basis $\\frak{B}=\\{\\ket{0}, \\ket{1},...\\ket{N}\\}$ ), with its components given by $H_{nm} = \\bra{n}\\hat{H}\\ket{m}$. In this representation, \n",
    "$\\sum_{n=0}^N \\alpha_n \\ket{n} = \\boldsymbol{\\alpha}$ and thus \n",
    "$$\\boldsymbol{\\hat{\\alpha}} = \\underset{\\alpha }{\\arg\\min}|\\boldsymbol{\\alpha}^\\dagger H \\alpha|$$\n",
    "\n",
    "We can see that $[\\hat{H}_\\text{osc}]_\\mathfrak{B} = \\text{Diag}(e_0, e_1, ..., e_N)$ with $e_n = (\\frac{1}{2}+n)h\\omega$ as the basis elements are eigenstates of the operator. The representation of $\\hat{x}$ is not as obvious, but decomposing it into the ladder operators as $\\hat{x} = \\frac{1}{\\sqrt{2}}(\\hat{a}^\\dagger + \\hat{a})$, we have:\n",
    "$$[\\hat{x}]_\\mathfrak{B} = \\frac{1}{\\sqrt{2}}\n",
    "\\begin{pmatrix}\n",
    "    0 & \\sqrt{1} & 0 & 0 & \\dots\\\\\n",
    "    \\sqrt{1}& 0 & \\sqrt{2} & 0 &\\dots\\\\\n",
    "    0& \\sqrt{2}&0&\\sqrt{3}\\\\\n",
    "    0&0&\\sqrt{3}&0\\\\\n",
    "    \\dots&&&&{\\dots}\\\\\n",
    "    &&&&&\\sqrt{N}\\\\ \n",
    "    &&&&\\sqrt{N}&0\\\\\n",
    "\\end{pmatrix}\n",
    "$$\n",
    "\n",
    "Therefore, we are able to compute the coefficients by calculating the loss explicitely using the QHO basis representation for matrices and vectors. "
   ]
  },
  {
   "cell_type": "code",
   "execution_count": 148,
   "metadata": {},
   "outputs": [
    {
     "name": "stdout",
     "output_type": "stream",
     "text": [
      "Using device cpu\n"
     ]
    }
   ],
   "source": [
    "import torch\n",
    "import math\n",
    "import matplotlib.pyplot as plt\n",
    "%matplotlib inline\n",
    "\n",
    "# hyperparameters\n",
    "w = 1\n",
    "h = 1\n",
    "lmbda = 0.1\n",
    "N = 50\n",
    "lr = 1e-3\n",
    "epochs = 40000\n",
    "\n",
    "hyperparams = {'lmbda': lmbda, 'lr': lr, 'epochs': epochs}\n",
    "\n",
    "device = torch.device(\"cpu\") if not torch.cuda.is_available() else torch.device(\"cuda:0\")\n",
    "print(\"Using device\", device)\n",
    "    "
   ]
  },
  {
   "cell_type": "markdown",
   "metadata": {},
   "source": [
    "We proceed to define the different tensors as outlined in the 'Theory' section, being careful to specify the vectors that are meant to have a gradient."
   ]
  },
  {
   "cell_type": "code",
   "execution_count": 149,
   "metadata": {},
   "outputs": [],
   "source": [
    "coeffs = torch.rand(N+1, dtype=torch.cfloat, requires_grad=True)\n",
    "normed_coeffs = coeffs/torch.norm(coeffs)\n",
    "coeffs_conj = torch.conj(normed_coeffs)\n",
    "H_osc = torch.diag((torch.arange(N+1)+0.5)*h*w+0j)\n",
    "x  = torch.zeros(N+1, N+1, requires_grad=False, dtype=torch.cfloat)\n",
    "for i in range(N):\n",
    "    n = i+1\n",
    "    x[n][i] = math.sqrt(n)\n",
    "    x[i][n] = math.sqrt(n)\n",
    "\n",
    "# print(f'H matrix:\\n {H_osc}\\n')\n",
    "# print(f'x matrix:\\n {x}\\n')\n",
    "# print(f'alpha:\\n {normed_coeffs}\\n')\n",
    "# print(f'alpha conjugated:\\n {coeffs_conj}\\n')\n",
    "# print(f'Normalized? -> norm: {coeffs_conj@normed_coeffs}')"
   ]
  },
  {
   "cell_type": "markdown",
   "metadata": {},
   "source": [
    "We then define the loss function $\\mathfrak{L}$ as `x4loss`, along with an `optimize` function to optimize the coefficients. `optimize` will return data points for plotting the loss vs the number of iterations.\n",
    "\n",
    "_Note:_ the `x4loss` is a pure function, while optimize is not. This is made for simplicity in this scenario, as there is not much room for ambiguity with respect to the loss function. A more robust scenario would include the loss function as an argument, along with any arguments the loss function requires, but will be avoided in this situation for better readibility."
   ]
  },
  {
   "cell_type": "code",
   "execution_count": 150,
   "metadata": {},
   "outputs": [],
   "source": [
    "def x4loss(alpha, Hosc, x, lmbda):\n",
    "    normed_alpha = alpha/torch.norm(alpha)\n",
    "    alpha_conj = torch.conj(normed_alpha)\n",
    "    return torch.abs(alpha_conj@(Hosc + lmbda*x@x@x@x)@normed_alpha)\n",
    "\n",
    "def optimize(alpha, x, H_osc, **hyperparams):\n",
    "    lr = hyperparams['lr']\n",
    "    epochs = hyperparams['epochs']\n",
    "    lmbda = hyperparams['lmbda']\n",
    "    interv = 50\n",
    "    optimizing_info = torch.zeros(epochs//interv, 2)\n",
    "    optimizer = torch.optim.Adam([alpha], lr=lr)\n",
    "    for step in range(epochs):\n",
    "        loss = x4loss(coeffs, H_osc, x, lmbda)\n",
    "        # Backpropagation\n",
    "        optimizer.zero_grad()\n",
    "        loss.backward()\n",
    "        optimizer.step()\n",
    "        if not step%interv:\n",
    "            # print(f'step: {step} \\n\\nloss: {loss}')\n",
    "            optimizing_info[step//interv][0] = step\n",
    "            optimizing_info[step//interv][1] = loss\n",
    "    return optimizing_info\n",
    "plot_data = optimize(coeffs, x, H_osc, **hyperparams).detach()\n"
   ]
  },
  {
   "cell_type": "markdown",
   "metadata": {},
   "source": [
    "We can see that after roughly $10 000$ iterations, the loss stabilizes around a value $y\\approx0.668772$, which would imply that this is the ground state energy of the system. \n",
    "\n",
    "We will proceed to plot the values for the Loss along with this inferred lower bound for the loss."
   ]
  },
  {
   "cell_type": "code",
   "execution_count": 151,
   "metadata": {},
   "outputs": [
    {
     "data": {
      "image/png": "[encoded data removed]",
      "text/plain": [
       "<Figure size 432x288 with 1 Axes>"
      ]
     },
     "metadata": {
      "needs_background": "light"
     },
     "output_type": "display_data"
    }
   ],
   "source": [
    "plt.plot(plot_data[:,0], plot_data[:, 1], label='Loss', alpha=0.7)\n",
    "plt.plot(torch.arange(0, epochs), [0.668772]*epochs, ls='--', alpha=0.7, \n",
    "         label=r'$y=0.668772$')\n",
    "plt.title('Loss vs iterations')\n",
    "plt.xlabel('steps')\n",
    "plt.ylabel('Loss')\n",
    "plt.legend()\n",
    "plt.grid(ls='--')"
   ]
  },
  {
   "cell_type": "markdown",
   "metadata": {},
   "source": [
    "We can see that the Loss function stabilized around step $10000$ indeed, suggesting the ground energy has been reached (or a local minimum for the Loss function), and it is equal to the aforementioned $y$. \n",
    "\n",
    "To analyze the eigenstate, we just need to analyze the coefficients that were optimized. They are shown below, both printed out and in a diagram. \n",
    "\n",
    "_Remark:_ The even terms of the basis appear to have a significant distribution, while the odd terms are orders of magnitude smaller than the even terms."
   ]
  },
  {
   "cell_type": "code",
   "execution_count": 161,
   "metadata": {},
   "outputs": [
    {
     "name": "stdout",
     "output_type": "stream",
     "text": [
      "tensor([ 9.6132e-01+2.2321e-01j, -3.7533e-09-4.9984e-09j,\n",
      "        -1.5623e-01-3.6275e-02j, -4.3114e-09-5.7420e-09j,\n",
      "         1.3092e-02+3.0395e-03j, -5.1856e-09-6.9058e-09j,\n",
      "         8.5328e-03+1.9809e-03j, -6.3133e-09-8.4077e-09j,\n",
      "        -6.6525e-03-1.5450e-03j, -7.5228e-09-1.0019e-08j,\n",
      "         2.9175e-03+6.7707e-04j, -8.5397e-09-1.1373e-08j,\n",
      "        -8.1216e-04-1.8891e-04j, -9.0448e-09-1.2045e-08j,\n",
      "         9.5120e-06+1.8980e-06j, -8.7930e-09-1.1710e-08j,\n",
      "         1.7319e-04+3.9933e-05j, -7.7394e-09-1.0307e-08j,\n",
      "        -1.4281e-04-3.3403e-05j, -6.0906e-09-8.1111e-09j,\n",
      "         7.8196e-05+1.7955e-05j, -4.2330e-09-5.6371e-09j,\n",
      "        -3.0224e-05-7.1758e-06j, -2.5800e-09-3.4360e-09j,\n",
      "         6.2095e-06+1.3236e-06j, -1.4305e-09-1.9050e-09j,\n",
      "         3.1660e-06+6.5182e-07j, -9.0655e-10-1.2073e-09j,\n",
      "        -4.5251e-06-1.1046e-06j, -9.8097e-10-1.3063e-09j,\n",
      "         3.5166e-06+7.8515e-07j, -1.5411e-09-2.0523e-09j,\n",
      "        -1.9229e-06-4.6153e-07j, -2.4356e-09-3.2436e-09j,\n",
      "         8.2148e-07+1.8873e-07j, -3.4876e-09-4.6445e-09j,\n",
      "        -2.0848e-07-3.8858e-08j, -4.5042e-09-5.9985e-09j,\n",
      "        -9.7004e-08-2.3792e-09j, -5.3097e-09-7.0711e-09j,\n",
      "         9.2122e-08+5.2291e-08j, -5.7946e-09-7.7169e-09j,\n",
      "        -1.7853e-07+6.2972e-10j, -5.9538e-09-7.9289e-09j,\n",
      "        -9.5855e-10+5.2188e-08j, -5.8853e-09-7.8376e-09j,\n",
      "        -1.2024e-07+3.2853e-08j, -5.7485e-09-7.6556e-09j,\n",
      "        -8.5808e-08+4.6033e-08j, -5.6576e-09-7.5343e-09j,\n",
      "        -9.9464e-08+4.5032e-08j], grad_fn=<DivBackward0>)\n"
     ]
    },
    {
     "data": {
      "image/png": "[encoded data removed]",
      "text/plain": [
       "<Figure size 432x288 with 1 Axes>"
      ]
     },
     "metadata": {
      "needs_background": "light"
     },
     "output_type": "display_data"
    }
   ],
   "source": [
    "normed_coeffs = coeffs/torch.norm(coeffs)\n",
    "print(normed_coeffs)\n",
    "epsi = 1e-13  # to avoid evaluating log(0)\n",
    "plt.scatter(torch.arange(0, N+1), torch.log10(torch.abs(normed_coeffs).detach()+epsi), s=10)\n",
    "plt.title(r'$x^4$ coefficients after stabilization')\n",
    "plt.xlabel(r'$n$')\n",
    "plt.ylabel(r'$\\log_{10}|\\alpha_n|$')\n",
    "plt.grid(ls='--')"
   ]
  }
 ],
 "metadata": {
  "kernelspec": {
   "display_name": "Python 3.8.5 ('base')",
   "language": "python",
   "name": "python3"
  },
  "language_info": {
   "codemirror_mode": {
    "name": "ipython",
    "version": 3
   },
   "file_extension": ".py",
   "mimetype": "text/x-python",
   "name": "python",
   "nbconvert_exporter": "python",
   "pygments_lexer": "ipython3",
   "version": "3.8.5"
  },
  "orig_nbformat": 4,
  "vscode": {
   "interpreter": {
    "hash": "1c64bf8550111f692d1dbcc1d75814978e4e1f37e5d274065f0dbf4ce2794aed"
   }
  }
 },
 "nbformat": 4,
 "nbformat_minor": 2
}
