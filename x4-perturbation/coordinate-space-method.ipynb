{
 "cells": [
  {
   "cell_type": "markdown",
   "metadata": {},
   "source": [
    "$\\renewcommand{\\inner}[2]{\\left \\langle #1 | #2 \\right \\rangle}$\n",
    "$\\renewcommand{\\dd}[1]{\\frac{\\text{d} #1}{\\text{d}x}}$\n",
    "# Analysis in Coordinate Space for $x^4$ Perturbation\n",
    "The problem to be solved is the same as the one described in [x4-approximation.ipynb](https://github.com/snmendoza01/Physics-Simulations/blob/main/x4-perturbation/x4-approximation.ipynb). The approach to solve this is different and could be considered more general. We will not deal with the abstract _states_ $\\ket{\\psi}$, but rather with their coordinate representation $\\inner{x}{\\psi}\\equiv \\psi(x)$\n",
    "\n",
    "### __Approach:__\n",
    "We will still use the eigenstates of the QHO as a basis for the states, but we will use their coordinate representation: $\\inner{x}{n} \\equiv \\frac{1}{\\sqrt{2^n n! \\sqrt{\\pi}}}H_n(x) \\, e^{-\\frac{x^2}{2}} \\eqqcolon \\varphi_n(x)$, where $H_n$ is the nth Hemite polynomial. \n",
    "\n",
    "_Note:_ We have set $\\omega = \\hbar = m = 1$\n",
    "\n",
    "One of the tools needed for this approach is the [Gaussian-Hermite Quadrature](https://mathworld.wolfram.com/Hermite-GaussQuadrature.html), as it will allow us to numerically integrate inner products and expectation values over the interval $(-\\infty, \\infty)$\n",
    "\n",
    "\n"
   ]
  },
  {
   "cell_type": "code",
   "execution_count": 55,
   "metadata": {},
   "outputs": [
    {
     "name": "stdout",
     "output_type": "stream",
     "text": [
      "Using device cpu\n"
     ]
    }
   ],
   "source": [
    "import torch\n",
    "from math import factorial\n",
    "import matplotlib.pyplot as plt\n",
    "from tqdm.notebook import trange\n",
    "from scipy.special import hermite\n",
    "import numpy as np\n",
    "from scipy.special.orthogonal import orthopoly1d\n",
    "from numpy.polynomial.hermite import hermgauss\n",
    "\n",
    "%matplotlib inline\n",
    "\n",
    "# hyperparameters\n",
    "w = 1\n",
    "h = 1\n",
    "k = 1\n",
    "lmbda = 0.25\n",
    "N = 5\n",
    "lr = 1e-3\n",
    "epochs = 4000\n",
    "\n",
    "hyperparams = {'lmbda': lmbda, 'lr': lr, 'epochs': epochs, 'k': k}\n",
    "\n",
    "device = torch.device(\"cpu\") if not torch.cuda.is_available() else torch.device(\"cuda:0\")\n",
    "print(\"Using device\", device)"
   ]
  },
  {
   "cell_type": "markdown",
   "metadata": {},
   "source": [
    "Then we proceed to define the functions we will need in order to implement the optimization of our parameters. First, we will be using the hermite polynomials as provided in the `scipy.special` module, as they provide an easy means for differentiation.\n",
    "\n",
    " We will define a simple function to transform elements of this class into object of type `callable`, as this is eassiest for implementing the gaussian quadrature. \n",
    "\n",
    " Finally, we provide a function for computing this specific hamiltonian by acting with differential operators and multiplication by `x` on the functions. Note that, if the analysis of a different hamiltonian is desired, the function `inner_prod_hamiltonian()` needs to be altered internally. \n",
    "\n",
    " The loss function is again given by: $$\\mathfrak{L}(\\ket{\\psi_\\Theta}) = \\bra{\\psi_\\Theta}\\hat{H}\\ket{\\psi_\\Theta} = \\sum_{i, j = 0}^N \\bar{\\alpha}_i \\alpha_j \\bra{i} \\hat{H}\\ket{j}\\\\ \\equiv \\sum_{i, j = 0}^N\\bar{\\alpha}_i \\alpha_j\\int_{\\infty}^\\infty\\varphi_i^*(x)\\left(-\\frac{1}{2} \\frac{\\text{d}^2}{\\text{d}x^2}+\\frac{1}{2}x^2 + \\lambda x^4 \\right)\\varphi_j \\text{d}x$$\n",
    " which we will approximate with a gaussian quadrature using the fact that:\n",
    " $$\\int_{-\\infty}^\\infty e^{-x^2}f(x) \\approx \\sum_{n=0}^N w_i f(x_i)$$\n",
    "\n",
    " The optimization function, once the loss is given, is just standard optimization procedure. "
   ]
  },
  {
   "cell_type": "code",
   "execution_count": 50,
   "metadata": {},
   "outputs": [],
   "source": [
    "def orthopoly1d_to_func(poly: orthopoly1d):\n",
    "    return lambda x: sum([coeff*x**(len(poly)-idx) for idx, coeff in enumerate(poly)])\n",
    "\n",
    "\n",
    "def apply_quad(func, deg):\n",
    "    xs, ws = hermgauss(deg)\n",
    "    sum = 0\n",
    "    for x, w in zip(xs, ws):\n",
    "        sum += w*func(x)\n",
    "    return sum\n",
    "\n",
    "\n",
    "def inner_prod_hamiltonian1(i: int , j: int, lmbda: float, k: float=1):\n",
    "    i_poly, j_poly = (hermite(i, monic=False)/np.sqrt(np.sqrt(np.pi)*2**i*factorial(i)),\n",
    "                      hermite(j, monic=False)/np.sqrt(np.sqrt(np.pi)*2**j*factorial(j)))\n",
    "    first, second = orthopoly1d_to_func(j_poly.deriv()), orthopoly1d_to_func(j_poly.deriv().deriv())\n",
    "    i_func = orthopoly1d_to_func(i_poly)\n",
    "    j_func = orthopoly1d_to_func(j_poly)\n",
    "    derivated = lambda x: second(x)-j_func(x)-2*x*first(x)+x**2*j_func(x)\n",
    "    func = lambda x: i_func(x)*(-derivated(x)/2\n",
    "                                +k*j_func(x)*x**2/2+lmbda*j_func(x)*x**4)\n",
    "    # func = lambda x: i_func(x)*j_func(x)\n",
    "    return apply_quad(func, max(i, j)+5)\n",
    "\n",
    "\n",
    "def loss_fn(alpha: torch.Tensor, N: int, lmbda: float, inner_prod_hamiltonian: callable, k: float=1):\n",
    "    loss = 0\n",
    "    for i in range(N+1):\n",
    "        for j in range(N+1):\n",
    "            # print(inner_prod_hamiltonian(i, j, lmbda))\n",
    "            loss += torch.conj(alpha[i]) * alpha[j] * inner_prod_hamiltonian(i, j, lmbda, k)/torch.norm(alpha)**2\n",
    "    return torch.abs(loss)\n",
    "\n",
    "\n",
    "def optimize(alpha, N, hyperparams, inner_prod_hamiltonian: callable=inner_prod_hamiltonian1):\n",
    "    lr, epochs = hyperparams['lr'], hyperparams['epochs']\n",
    "    lmbda, k = hyperparams['lmbda'], hyperparams['k']\n",
    "    interv = epochs//10\n",
    "    # alpha_norm = alpha/torch.norm(alpha)\n",
    "    optimizing_info = torch.zeros(epochs, 2)\n",
    "    optimizer = torch.optim.Adam([alpha], lr=lr)\n",
    "    for step in trange(epochs):\n",
    "        loss = loss_fn(alpha, N, lmbda, inner_prod_hamiltonian, k)\n",
    "        # Backpropagation\n",
    "        optimizer.zero_grad()\n",
    "        loss.backward(retain_graph=True)\n",
    "        optimizer.step()\n",
    "        optimizing_info[step][0] = step\n",
    "        optimizing_info[step][1] = loss\n",
    "        # print(step%interv)\n",
    "        # print(step)\n",
    "        # print(interv)\n",
    "        if not step%interv:\n",
    "            print(f'step: {step} \\nloss: {loss}\\n------------')\n",
    "            \n",
    "    return optimizing_info\n"
   ]
  },
  {
   "cell_type": "markdown",
   "metadata": {},
   "source": [
    "We proceed to initialize random complex coefficients and optimize them. We also plot the result of the decay of the loss as a function of iteration number."
   ]
  },
  {
   "cell_type": "code",
   "execution_count": 56,
   "metadata": {},
   "outputs": [
    {
     "data": {
      "application/vnd.jupyter.widget-view+json": {
       "model_id": "8f1f2ee6142b4a16a31ad7781aad5d4f",
       "version_major": 2,
       "version_minor": 0
      },
      "text/plain": [
       "  0%|          | 0/4000 [00:00<?, ?it/s]"
      ]
     },
     "metadata": {},
     "output_type": "display_data"
    },
    {
     "name": "stdout",
     "output_type": "stream",
     "text": [
      "step: 0 \n",
      "loss: 8.52842903137207\n",
      "------------\n",
      "step: 400 \n",
      "loss: 3.498993396759033\n",
      "------------\n",
      "step: 800 \n",
      "loss: 1.6943228244781494\n",
      "------------\n",
      "step: 1200 \n",
      "loss: 1.1005709171295166\n",
      "------------\n",
      "step: 1600 \n",
      "loss: 0.839881420135498\n",
      "------------\n",
      "step: 2000 \n",
      "loss: 0.7115048766136169\n",
      "------------\n",
      "step: 2400 \n",
      "loss: 0.6524979472160339\n",
      "------------\n",
      "step: 2800 \n",
      "loss: 0.6299703121185303\n",
      "------------\n",
      "step: 3200 \n",
      "loss: 0.6234223246574402\n",
      "------------\n",
      "step: 3600 \n",
      "loss: 0.6220667958259583\n",
      "------------\n"
     ]
    }
   ],
   "source": [
    "alpha = torch.rand(N+1,dtype=torch.cfloat, requires_grad=True)\n",
    "plotting_info = optimize(alpha, N, hyperparams)"
   ]
  },
  {
   "cell_type": "code",
   "execution_count": 57,
   "metadata": {},
   "outputs": [
    {
     "name": "stdout",
     "output_type": "stream",
     "text": [
      "Final loss: 0.6218807697296143\n"
     ]
    },
    {
     "data": {
      "image/png": "[encoded data removed]",
      "text/plain": [
       "<Figure size 432x288 with 1 Axes>"
      ]
     },
     "metadata": {
      "needs_background": "light"
     },
     "output_type": "display_data"
    }
   ],
   "source": [
    "plt.plot(plotting_info[:, 0].detach().numpy(), plotting_info[:, 1].detach().numpy(), \n",
    "         label='Loss')\n",
    "y = plotting_info[-1, 1].detach().numpy()\n",
    "plt.plot(plotting_info[:, 0].detach().numpy(), [y]*len(plotting_info[:, 0]),\n",
    "         ls='--', label='Groundstate energy')\n",
    "plt.grid(ls='--')\n",
    "plt.legend()\n",
    "plt.title('Loss over iterations')\n",
    "plt.xlabel('Iteration number')\n",
    "plt.ylabel('Loss')\n",
    "print(f'Final loss: {y}')"
   ]
  },
  {
   "cell_type": "markdown",
   "metadata": {},
   "source": [
    "We can perform a similar analysis with a different hamiltonian (e.g., $\\hat{H} = -\\frac{1}{2}\\frac{\\text{d}^2}{\\text{d}x^2} + x^4$), and for this we simply need to define a different `inner_prod_with_hamiltonian` accordingly and feed it to the `optimize` function."
   ]
  },
  {
   "cell_type": "code",
   "execution_count": 53,
   "metadata": {},
   "outputs": [
    {
     "data": {
      "application/vnd.jupyter.widget-view+json": {
       "model_id": "391d2d1eea7c4688a9dc69fb69bf0867",
       "version_major": 2,
       "version_minor": 0
      },
      "text/plain": [
       "  0%|          | 0/4000 [00:00<?, ?it/s]"
      ]
     },
     "metadata": {},
     "output_type": "display_data"
    },
    {
     "name": "stdout",
     "output_type": "stream",
     "text": [
      "step: 0 \n",
      "loss: 24.619970321655273\n",
      "------------\n",
      "step: 400 \n",
      "loss: 8.85749626159668\n",
      "------------\n",
      "step: 800 \n",
      "loss: 3.3987972736358643\n",
      "------------\n",
      "step: 1200 \n",
      "loss: 2.052131175994873\n",
      "------------\n",
      "step: 1600 \n",
      "loss: 1.4506475925445557\n",
      "------------\n",
      "step: 2000 \n",
      "loss: 1.1185626983642578\n",
      "------------\n",
      "step: 2400 \n",
      "loss: 0.9444023966789246\n",
      "------------\n",
      "step: 2800 \n",
      "loss: 0.8355919718742371\n",
      "------------\n",
      "step: 3200 \n",
      "loss: 0.7605394124984741\n",
      "------------\n",
      "step: 3600 \n",
      "loss: 0.7133539319038391\n",
      "------------\n"
     ]
    }
   ],
   "source": [
    "def inner_prod_hamiltonian2(i: int , j: int, lmbda: float, k: float=1):\n",
    "    i_poly, j_poly = (hermite(i, monic=False)/np.sqrt(np.sqrt(np.pi)*2**i*factorial(i)),\n",
    "                      hermite(j, monic=False)/np.sqrt(np.sqrt(np.pi)*2**j*factorial(j)))\n",
    "    first, second = orthopoly1d_to_func(j_poly.deriv()), orthopoly1d_to_func(j_poly.deriv().deriv())\n",
    "    i_func = orthopoly1d_to_func(i_poly)\n",
    "    j_func = orthopoly1d_to_func(j_poly)\n",
    "    derivated = lambda x: second(x)-j_func(x)-2*x*first(x)+x**2*j_func(x)\n",
    "    func = lambda x: i_func(x)*(-derivated(x)/2 +j_func(x)*x**4)\n",
    "    return apply_quad(func, max(i, j)+5)\n",
    "\n",
    "alpha2 = torch.rand(N+1,dtype=torch.cfloat, requires_grad=True)\n",
    "plotting_info2 = optimize(alpha2, N, hyperparams, inner_prod_hamiltonian2)"
   ]
  },
  {
   "cell_type": "code",
   "execution_count": 54,
   "metadata": {},
   "outputs": [
    {
     "name": "stdout",
     "output_type": "stream",
     "text": [
      "Final loss: 0.6884057521820068\n"
     ]
    },
    {
     "data": {
      "image/png": "[encoded data removed]",
      "text/plain": [
       "<Figure size 432x288 with 1 Axes>"
      ]
     },
     "metadata": {
      "needs_background": "light"
     },
     "output_type": "display_data"
    }
   ],
   "source": [
    "plt.plot(plotting_info2[:, 0].detach().numpy(), plotting_info2[:, 1].detach().numpy(), \n",
    "         label='Loss')\n",
    "y = plotting_info2[-1, 1].detach().numpy()\n",
    "plt.plot(plotting_info2[:, 0].detach().numpy(), [y]*len(plotting_info2[:, 0]),\n",
    "         ls='--', label='Groundstate energy')\n",
    "plt.grid(ls='--')\n",
    "plt.legend()\n",
    "plt.title('Loss over iterations')\n",
    "plt.xlabel('Iteration number')\n",
    "plt.ylabel('Loss')\n",
    "print(f'Final loss: {y}')"
   ]
  }
 ],
 "metadata": {
  "kernelspec": {
   "display_name": "Python 3.8.5 ('base')",
   "language": "python",
   "name": "python3"
  },
  "language_info": {
   "codemirror_mode": {
    "name": "ipython",
    "version": 3
   },
   "file_extension": ".py",
   "mimetype": "text/x-python",
   "name": "python",
   "nbconvert_exporter": "python",
   "pygments_lexer": "ipython3",
   "version": "3.8.5"
  },
  "orig_nbformat": 4,
  "vscode": {
   "interpreter": {
    "hash": "1c64bf8550111f692d1dbcc1d75814978e4e1f37e5d274065f0dbf4ce2794aed"
   }
  }
 },
 "nbformat": 4,
 "nbformat_minor": 2
}
