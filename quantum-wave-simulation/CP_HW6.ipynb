{
 "cells": [
  {
   "cell_type": "markdown",
   "metadata": {},
   "source": [
    "# Stationary Harmonic Oscillator\n",
    "\n",
    "#### In this section we begin by creating a generalized function for performing the Euler-Cromer algorithm given a set of data. We also create a function for calculating the energies that satisfy boundary conditions for more complicated examples. We use these functions to solve for the harmonic and anharmonic oscillator (in the stationary sense). \n",
    "\n",
    "Remark: we are working in natural units\n"
   ]
  },
  {
   "cell_type": "markdown",
   "metadata": {},
   "source": [
    "Import necessary libraries"
   ]
  },
  {
   "cell_type": "code",
   "execution_count": null,
   "metadata": {},
   "outputs": [],
   "source": [
    "import numpy as np\n",
    "import  matplotlib.pyplot as plt\n",
    "from typing import Callable\n",
    "from scipy import special\n",
    "import ipywidgets as wid\n",
    "plt.rcParams['figure.figsize'] = [10, 5]\n",
    "%matplotlib qt"
   ]
  },
  {
   "cell_type": "markdown",
   "metadata": {},
   "source": [
    "We define the Euler Cromer algorithm by giving it the following variables:\n",
    "- `y_0`: the initial value for $\\psi_0(x=0)$\n",
    "- `dy_0`: the initial value for $\\frac{\\partial }{\\partial x} \\psi_0(x)\\biggr\\rvert_{x=0}$\n",
    "- `E`: The energy we assume to be an eigenvalue of the hamiltonian $\\hat{H}$\n",
    "- `V`: The function $V(x)$ that takes a value over $x$ (float) and outputs a float\n",
    "- `x_f`: The range where the calculations are computed ( $x\\in [x_f, x_f]$ )\n",
    "- `del_x`: The interval between each neighboring point in $x$-space after discretizing ( $\\Delta x$ )\n",
    "\n",
    "Since our hamiltonian is given by \n",
    "\n",
    "$$\\hat{H} = -\\frac{1}{2}\\frac{\\partial^2}{\\partial x^2} + V(x)$$\n",
    "\n",
    "the Time Independent SE $\\hat{H} \\psi(x) = E \\, \\psi(x)$ provides the equation:\n",
    "\n",
    "$$\\psi_0'' (x) = -2(E - V(x)) \\psi(x)$$\n",
    "\n",
    "If we discretize and use a semi-implicit algorithm (Euler-Cromer), the following equations follow:\n",
    "\n",
    "* $\\psi_0''(x_{n+1}) = -2(E-V(x_n))\\psi_0(x_n)$\n",
    "* $\\psi_0'(x_{n+1}) = \\psi_0'(x_{n})+ \\psi_0''(x_{n}) \\cdot \\Delta x$\n",
    "* $\\psi_0(x_{n+1}) = \\psi_0(x_{n})+ \\psi_0'(x_{n+1}) \\cdot \\Delta x$\n",
    "\n",
    "With $x_k \\coloneqq k\\cdot \\Delta x \\equiv$ `k*d_x`\n"
   ]
  },
  {
   "cell_type": "code",
   "execution_count": null,
   "metadata": {},
   "outputs": [],
   "source": [
    "def euler_cromer(y_0: float, dy_0: float, E: float,\n",
    "                 V: Callable[[float], float], x_f: int, del_x: float):\n",
    "    n = int(2*x_f/del_x)\n",
    "    xs = np.linspace(-x_f, x_f, n)\n",
    "    psi = np.zeros(n)\n",
    "    d_psi = np.zeros(n)\n",
    "    y = y_0\n",
    "    dy = dy_0\n",
    "    for idx, x in enumerate(xs):\n",
    "        # if abs(y) >= 30000:\n",
    "        #     break\n",
    "        psi[idx] = y\n",
    "        d_psi[idx] = V(x)\n",
    "        ddy = -2*(E - V(x))*y\n",
    "        dy = dy + del_x*ddy\n",
    "        y = y + dy*del_x\n",
    "    rho = psi*np.conjugate(psi)\n",
    "    psi = psi/np.sqrt(np.sum(rho)*del_x)\n",
    "    return xs, psi, d_psi"
   ]
  },
  {
   "cell_type": "markdown",
   "metadata": {},
   "source": [
    "Since the Harmonic oscillator has an analytic solution ( $E_n = \\frac{1}{2} +n$ ), our \"educated guesses\" will be set to these values. We proceed to use the Euler-Cromer algorithm to numerically compute the eigenstates, which we wil compare to the analytic solutions:\n",
    "$$\\phi_n(x) = H_n e^{\\frac{-x^2}{2}}$$\n",
    "\n",
    "Note: We need to use different initial conditioins depending on the parity of the quantum number."
   ]
  },
  {
   "cell_type": "code",
   "execution_count": null,
   "metadata": {},
   "outputs": [],
   "source": [
    "\n",
    "Es = np.arange(0.5, 11, 1)\n",
    "xlim, dx = 4, 0.001\n",
    "for e in Es:\n",
    "    plt.figure()\n",
    "    n = int(e - 0.5)\n",
    "    if not (n%2): \n",
    "        \"\"\"Even Parity\"\"\"\n",
    "        x, y , dy= euler_cromer(0, 1, e, lambda x: x**2/2, xlim, dx)\n",
    "    else: \n",
    "        \"\"\"Odd Parity\"\"\"\n",
    "        x, y, dy = x, y , dy= euler_cromer(0, 1, e, lambda x: x**2/2, xlim, dx)\n",
    "        y = -y  # Psi only defined up to a phase\n",
    "    plt.plot(x, y, label=r'$\\Psi_{num}$')  \n",
    "    eigenfunc = lambda x: (\n",
    "        special.hermite(n=n).__call__(x)*np.exp(-x**2/2)/np.sqrt(\n",
    "            2**n * np.math.factorial(n)*np.sqrt(np.pi)))\n",
    "    plt.plot(x, eigenfunc(x), ls='--', label=r'$\\Psi_{theory}$')\n",
    "    plt.xlabel(r'$x$')\n",
    "    plt.ylabel(r'$\\Psi(x)$')\n",
    "    plt.title(f'Wavefunction with $E = {e}$')\n",
    "    plt.grid(ls='--')\n",
    "    plt.legend()\n",
    "    plt.show()"
   ]
  },
  {
   "cell_type": "markdown",
   "metadata": {},
   "source": [
    "We can see in these results that, for lower energies, the method works as expected and aligns almost perfectly with the theoretical eigenstates, but for the deviations become significant for the later eigenvalues."
   ]
  },
  {
   "cell_type": "markdown",
   "metadata": {},
   "source": [
    "### $\\alpha x^4$\n",
    "Now we try for the anharmonic oscillator with $V(x) = \\frac{1}{2}x^2+\\alpha x^4$. We can see that the behaviour, in comparison to the anharmonic oscillator, is very similar. Note, however, that the anharmonic oscillator will diverge if the same eigenenergies for the harmonic oscillator are used, so it is important to find the right eigenvalues. \n",
    "\n",
    "The method used to find these enegies is creating using small variations and utilizing the ones that produce a function that does not diverge (and has an end result of $0$). Then we repeat the same procedure as before to plot the eigenstates corresponding to these energies."
   ]
  },
  {
   "cell_type": "code",
   "execution_count": null,
   "metadata": {},
   "outputs": [],
   "source": [
    "alpha = 0.01\n",
    "Es = np.arange(0.1, 10, 0.1)\n",
    "\n",
    "boundaries = np.zeros(len(Es))\n",
    "for i, e in enumerate(Es):\n",
    "    n = int(e - 0.5)\n",
    "    x, y , dy= euler_cromer(0, 1, e, lambda x: x**2/2+alpha*x**4, xlim, dx)\n",
    "    boundaries[i] = y[-1]\n",
    "boundaries = boundaries*np.conjugate(boundaries)\n",
    "plt.figure()\n",
    "plt.xlabel(r'$E$')\n",
    "plt.ylabel(r'$\\psi(x_{lim})$')\n",
    "plt.title(f'Wavefunction at boundary as a function of energy')\n",
    "plt.plot(Es, boundaries)\n",
    "k = 5\n",
    "k_lowest = np.argpartition(boundaries, k)[:k].tolist()\n",
    "for idx in k_lowest:\n",
    "    plt.scatter(Es[idx], boundaries[idx], color='r', marker='x')\n",
    "    \n",
    "for idx in k_lowest:\n",
    "    plt.figure()\n",
    "    e = Es[idx]\n",
    "    n = int(e - 0.5)\n",
    "    x, y , dy= euler_cromer(0, 1, e, lambda x: x**2/2+alpha*x**4, xlim, dx)\n",
    "    _, y2, dy2 = euler_cromer(0, 1, e, lambda x: x**2/2, xlim, dx)\n",
    "\n",
    "    plt.title(f'$E = ${e}')\n",
    "    plt.plot(x, y,  label=f'$V(x) = x^2+{alpha}x^4$')\n",
    "    plt.plot(x, y2, label=f'$V(x) = x^2$', ls='--')\n",
    "    plt.grid(ls='--')\n",
    "    plt.xlabel(r'$x$')\n",
    "    plt.ylabel(r'$\\psi(x)$')\n",
    "    plt.legend()\n",
    "    plt.show()\n",
    "\n",
    "\n"
   ]
  },
  {
   "cell_type": "markdown",
   "metadata": {},
   "source": [
    "# 2. Propagating Wavepacket\n",
    "\n",
    "#### In this section, we will analyze the dynamics of different systems. In order to do this, we will employ a variety of tools (such as Fourier transforms) in order to represent different operators in the most convenient ways."
   ]
  },
  {
   "cell_type": "code",
   "execution_count": null,
   "metadata": {},
   "outputs": [],
   "source": [
    "from scipy import fft\n",
    "from matplotlib import animation\n",
    "from IPython import display\n",
    "from time import sleep\n",
    "sleep(4)"
   ]
  },
  {
   "cell_type": "code",
   "execution_count": null,
   "metadata": {},
   "outputs": [],
   "source": [
    "# xlim, dx = 10, 0.1\n",
    "# xs = np.arange(-xlim, xlim+dx, dx)\n",
    "# N = len(xs)\n",
    "# psi0 = (np.pi)**0.25*np.exp(-xs**2/2)\n",
    "# plt.figure()\n",
    "# plt.plot(xs, psi0)\n",
    "# plt.show()\n",
    "# psi_tilde = fft.fft(psi0)\n",
    "# ps = fft.fftfreq(N, dx)\n",
    "# plt.figure()\n",
    "# plt.plot(ps, psi_tilde.real)\n",
    "# plt.show()"
   ]
  },
  {
   "cell_type": "markdown",
   "metadata": {},
   "source": [
    "We begin by defiing a function that carries out the time evolution of a free particle. This algorithm stems from the time propagation equation:\n",
    "\n",
    "$$ \\psi(t) = e^{-i\\hat{H}t}\\psi_0$$\n",
    "\n",
    "We can divide a time intertval into infinitesimal time-steps, which (after performing a delicate analysis on the communation of operators), we can obtain the time evolved states by iterating over the action of $e^{-i\\hat{H}\\Delta t}$.\n",
    "\n",
    "Given that for a free particle $\\hat{H} = \\frac{1}{2}\\hat{p}^2$, the time evolution results in the following algorithm:"
   ]
  },
  {
   "cell_type": "code",
   "execution_count": null,
   "metadata": {},
   "outputs": [],
   "source": [
    "def free_time_evo(psi: np.ndarray, dx: float,\n",
    "                  N: int, dt: float, M: int, interv: int) -> np.ndarray:\n",
    "    plots = []\n",
    "    fftpsi = fft.fft(psi)\n",
    "    ps = fft.fftfreq(n=N, d=dx)\n",
    "    for m in range(M):\n",
    "        if m%interv == 0:\n",
    "            temp = fft.ifft(fftpsi)\n",
    "            plots.append(temp)\n",
    "\n",
    "        fftpsi = np.exp(-1j*dt*ps**2/2)*fftpsi\n",
    "    return plots\n",
    "\n"
   ]
  },
  {
   "cell_type": "markdown",
   "metadata": {},
   "source": [
    "_Remark_: The plots extracted from this procedure will not ocurr for each frame, but rather for one frame every interval of length `interv` has passed.\n",
    "\n",
    "### Free wave\n",
    "Now we define the initial state as $\\psi_0 = \\pi^{-\\frac{1}{4}} e^{-\\frac{x}{2}}$. And using `FuncAnimate()`, we animate the time evolution of this state. As we can see, this function behaves as expected, by simply dispersing as time evolves (and eventually creating some interference as it reaches the boundary)."
   ]
  },
  {
   "cell_type": "code",
   "execution_count": null,
   "metadata": {},
   "outputs": [],
   "source": [
    "\n",
    "xlim, dx = 10, 0.1\n",
    "dt, M = 0.1, 3000\n",
    "xs = np.arange(-xlim, xlim+dx, dx)\n",
    "N = len(xs)\n",
    "psi0 = (np.pi)**0.25*np.exp(-xs**2/2)\n",
    "fig, ax = plt.subplots()\n",
    "l, = ax.plot([],[])\n",
    "ax.set_xlim([-xlim, xlim])\n",
    "ax.set_ylim([-0.5, 1.5])\n",
    "ax.grid(ls='--')\n",
    "ax.set_title('Free wave propagation')\n",
    "ax.set_xlabel(r'$x$')\n",
    "ax.set_ylabel(r'$|\\Psi(x)|^2$')\n",
    "numFrames = 100\n",
    "\n",
    "plots = free_time_evo(psi0, dx, N, dt, M, M/numFrames)\n",
    "\n",
    "\n",
    "def func(frame, *fargs):\n",
    "    y = fargs[0][frame]\n",
    "    x = fargs[1]\n",
    "    l.set_data(x, np.absolute(y))\n",
    "    ax.set_xlabel(r'$x$')\n",
    "    ax.set_ylabel(r'$|\\Psi(x)|^2$')\n",
    "    ax.set_title('Free wave propagation') \n",
    "\n",
    "anim = animation.FuncAnimation(fig, func, fargs=[plots, xs],\n",
    "                               frames=numFrames, interval=40)\n",
    "display.HTML(anim.to_jshtml())"
   ]
  },
  {
   "cell_type": "markdown",
   "metadata": {},
   "source": [
    "We repeat the same procedure, but now giving the particle an initial 'kick' with momentum $k_0 = 1$, which we add through an exponential phase to our $\\psi_0$. We will find that the particle travels in the direction given by the momentum (and disperses), just as expected."
   ]
  },
  {
   "cell_type": "code",
   "execution_count": null,
   "metadata": {},
   "outputs": [],
   "source": [
    "k0 = 1\n",
    "xlim, dx = 40, 0.1\n",
    "xs = np.arange(-xlim, xlim+dx, dx)\n",
    "N = len(xs)\n",
    "psi0_moving = (np.pi)**0.25*np.exp(-xs**2/2)*np.exp(1j* k0*xs)\n",
    "fig, ax = plt.subplots()\n",
    "l, = ax.plot([],[])\n",
    "ax.set_xlim([-xlim, xlim])\n",
    "ax.set_ylim([-0.5, 1.5])\n",
    "ax.grid(ls='--')\n",
    "ax.set_title('Free wave propagation')\n",
    "ax.set_xlabel(r'$x$')\n",
    "ax.set_ylabel(r'$|\\Psi(x)|^2$')\n",
    "numFrames = 100\n",
    "dt, M = 0.1, 3000\n",
    "\n",
    "plots = free_time_evo(psi0_moving, dx, N, dt, M, M/numFrames)\n",
    "def func(frame, *fargs):\n",
    "    y = fargs[0][frame]\n",
    "    x = fargs[1]\n",
    "    l.set_data(x, np.absolute(y))\n",
    "\n",
    "anim = animation.FuncAnimation(fig, func, fargs=[plots, xs],\n",
    "                               frames=numFrames, interval=40)\n",
    "display.HTML(anim.to_jshtml())"
   ]
  },
  {
   "cell_type": "markdown",
   "metadata": {},
   "source": [
    "We then proceed to define different time evolution operators, which include a potential term. In order to do this, we will \n",
    "- Once again split the exponential \n",
    "- Act with the potential as a function of x \n",
    "- Perform a fourier transform to act with the momentum squared on momentum space\n",
    "- And then transform back to obtain our wavefunction in x-space. \n",
    "\n",
    "(Rather, we will divide the potential term intwo two and act on it at the beginning of the procedure and then int the end, as this can be more stable in some situations).\n",
    "\n",
    "Overall, the operators that act on the wavefunction are:\n",
    "\n",
    "$$e^{-\\frac{1}{2}i\\hat{V}(x)\\Delta t} \\circ \\mathscr{F}^{-1} \\circ e^{-\\frac{1}{2}i\\hat{p}^2\\Delta t} \\circ \\mathscr{F} \\circ e^{-\\frac{1}{2}i\\hat{V}(x)\\Delta t} "
   ]
  },
  {
   "cell_type": "code",
   "execution_count": null,
   "metadata": {},
   "outputs": [],
   "source": [
    "def potential_time_evo(psi: np.ndarray, dx: float, N: int, \n",
    "                       dt: float, M: int, interv: int, V_x: np.ndarray) -> np.ndarray:\n",
    "    plots = []\n",
    "    mu_x = []\n",
    "    mu_k = []\n",
    "    \n",
    "    xs = np.arange(-xlim, xlim+dx, dx)\n",
    "    ps = 2*np.pi*fft.fftfreq(n=N, d=dx)\n",
    "    \n",
    "    for m in range(M):\n",
    "        if m%interv == 0:\n",
    "            plots.append(psi)\n",
    "        psi = np.exp(-1j*V_x*dt/2)*psi\n",
    "        fftpsi = fft.fft(psi)\n",
    "        fftpsi = np.exp(-1j*dt*ps**2/2)*fftpsi\n",
    "        psi = fft.ifft(fftpsi)\n",
    "        psi = np.exp(-1j*V_x*dt/2)*psi\n",
    "        mu_x.append(np.dot(xs*psi,np.conjugate(psi))/N)\n",
    "        mu_k.append(np.dot((ps*fftpsi),np.conjugate(fftpsi))/N)\n",
    "    return plots, np.array(mu_x), np.array(mu_k)"
   ]
  },
  {
   "cell_type": "markdown",
   "metadata": {},
   "source": [
    "### Potential Barrier\n",
    "\n",
    "Now we proceed to analyze the potential barrier, by setting up the interval for which we want a potential barrier to be defined. We will juxtapose the potential with the wavefunction. We can see that the wavefunction is partially transmitted (tunneling) and partially reflected, which acts according to theory."
   ]
  },
  {
   "cell_type": "code",
   "execution_count": null,
   "metadata": {},
   "outputs": [],
   "source": [
    "k0 = 5\n",
    "xlim, dx = 50, 0.1\n",
    "xs = np.arange(-xlim, xlim+dx, dx)\n",
    "N = len(xs)\n",
    "psi0_moving = (np.pi)**(-1/4)*np.exp(-xs**2/2)*np.exp(1j* k0*xs)\n",
    "\n",
    "\n",
    "V, V0 = np.zeros(N), 5\n",
    "u1, u2 = int(N/2+xlim*0.2/dx), int(N/2 + xlim*0.21/dx)\n",
    "for i in range(u1, u2+1):\n",
    "    V[i] = V0\n",
    "    \n",
    "\n",
    "fig, ax = plt.subplots()\n",
    "l, = ax.plot([],[])\n",
    "ax.set_xlim([-xlim, xlim])\n",
    "ax.set_ylim([-0.5, 1.5])\n",
    "ax.grid(ls='--')\n",
    "ax.set_title('Potential Barrier')\n",
    "ax.set_xlabel(r'$x$')\n",
    "ax.set_ylabel(r'$|\\Psi(x)|^2$')\n",
    "numFrames = 50\n",
    "dt, M = 0.01, 600\n",
    "\n",
    "plots,_, _ = potential_time_evo(psi0_moving, dx, N, dt, M, M/numFrames, V)\n",
    "plt.plot(xs, V)\n",
    "def func(frame, *fargs):\n",
    "    y = fargs[0][frame]\n",
    "    x = fargs[1]\n",
    "    l.set_data(x, np.absolute(y))\n",
    "\n",
    "anim = animation.FuncAnimation(fig, func, fargs=[plots, xs],\n",
    "                               frames=numFrames, interval=40)\n",
    "display.HTML(anim.to_jshtml())"
   ]
  },
  {
   "cell_type": "markdown",
   "metadata": {},
   "source": [
    "### Quantum Harmonic Oscillator\n",
    "\n",
    "We now add the harmonic oscillator potential, and give some initial momentum to the particle. This function is a coherent state, so we expect an oscillatory behaviour from the wavefunction.\n",
    "\n",
    "Thus, we will also perform an analysis on the expectation values $\\bra{\\psi(t)}\\hat{p}\\ket{\\psi(t)}$ (up to a constant) and $\\bra{\\psi(t)}\\hat{x}\\ket{\\psi(t)}$."
   ]
  },
  {
   "cell_type": "code",
   "execution_count": null,
   "metadata": {},
   "outputs": [],
   "source": [
    "k0 = 2\n",
    "xlim, dx = 10, 0.1\n",
    "xs = np.arange(-xlim, xlim+dx, dx)\n",
    "N = len(xs)\n",
    "psi0_moving = (np.pi)**(-1/4)*np.exp(-xs**2/2)*np.exp(1j* k0*xs)\n",
    "\n",
    "V = xs**2/2\n",
    "fig, ax = plt.subplots()\n",
    "l, = ax.plot([],[])\n",
    "ax.set_xlim([-xlim, xlim])\n",
    "ax.set_ylim([-0.5, 1.5])\n",
    "ax.grid(ls='--')\n",
    "ax.set_title('Quantum Harmonic Oscillator')\n",
    "ax.set_xlabel(r'$x$')\n",
    "ax.set_ylabel(r'$|\\Psi(x)|^2$')\n",
    "numFrames = 100\n",
    "dt, M = 0.01, 1000\n",
    "t = np.linspace(0, dt*M, M)\n",
    "\n",
    "plots,mu_x, mu_k = potential_time_evo(psi0_moving, dx, N, dt, M, M/numFrames, V)\n",
    "\n",
    "def func(frame, *fargs):\n",
    "    y = fargs[0][frame]\n",
    "    x = fargs[1]\n",
    "    l.set_data(x, np.absolute(y))\n",
    "plt.plot(xs, V)\n",
    "anim = animation.FuncAnimation(fig, func, fargs=[plots, xs],\n",
    "                               frames=numFrames, interval=40)\n",
    "display.HTML(anim.to_jshtml())\n",
    "\n"
   ]
  },
  {
   "cell_type": "markdown",
   "metadata": {},
   "source": [
    "We see that the behaviour for the expectation values is just as we expected from the classical analogue of the system. Thus, this implies that the code reflects a proper description of the systems at hand.."
   ]
  },
  {
   "cell_type": "code",
   "execution_count": null,
   "metadata": {},
   "outputs": [],
   "source": [
    "plt.figure()\n",
    "plt.ylabel(r'$\\mu(\\hat{x})_\\Psi$')\n",
    "plt.xlabel(r'$t$')\n",
    "plt.plot(t, mu_x.real)\n",
    "plt.grid(ls='--')\n",
    "plt.title('Expectation value of position over time')\n",
    "plt.show()\n",
    "\n",
    "plt.figure()\n",
    "plt.ylabel(r'$\\mu(\\hat{k})_\\Psi$')\n",
    "plt.xlabel(r'$t$')\n",
    "plt.grid(ls='--')\n",
    "plt.plot(t, mu_k.real)\n",
    "plt.title('Expectation value of momentum vs time')\n",
    "plt.show()"
   ]
  }
 ],
 "metadata": {
  "interpreter": {
   "hash": "1c64bf8550111f692d1dbcc1d75814978e4e1f37e5d274065f0dbf4ce2794aed"
  },
  "kernelspec": {
   "display_name": "Python 3.8.5 ('base')",
   "language": "python",
   "name": "python3"
  },
  "language_info": {
   "codemirror_mode": {
    "name": "ipython",
    "version": 3
   },
   "file_extension": ".py",
   "mimetype": "text/x-python",
   "name": "python",
   "nbconvert_exporter": "python",
   "pygments_lexer": "ipython3",
   "version": "3.8.5"
  },
  "orig_nbformat": 4
 },
 "nbformat": 4,
 "nbformat_minor": 2
}
